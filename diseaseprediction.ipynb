{
 "cells": [
  {
   "cell_type": "code",
   "execution_count": 1,
   "id": "2e976b8f",
   "metadata": {
    "execution": {
     "iopub.execute_input": "2024-01-26T17:14:15.849303Z",
     "iopub.status.busy": "2024-01-26T17:14:15.848460Z",
     "iopub.status.idle": "2024-01-26T17:14:25.148510Z",
     "shell.execute_reply": "2024-01-26T17:14:25.147298Z"
    },
    "papermill": {
     "duration": 9.311465,
     "end_time": "2024-01-26T17:14:25.151466",
     "exception": false,
     "start_time": "2024-01-26T17:14:15.840001",
     "status": "completed"
    },
    "tags": []
   },
   "outputs": [],
   "source": [
    "import pandas as pd\n",
    "import numpy as np\n",
    "from sklearn.preprocessing import LabelEncoder\n",
    "from sklearn.metrics import accuracy_score, precision_score, recall_score, f1_score\n",
    "from sklearn.linear_model import LogisticRegression\n",
    "from sklearn.tree import DecisionTreeClassifier\n",
    "from sklearn.ensemble import RandomForestClassifier, GradientBoostingClassifier\n",
    "from sklearn.svm import SVC\n",
    "from sklearn.neighbors import KNeighborsClassifier\n",
    "from sklearn.model_selection import RandomizedSearchCV\n",
    "from sklearn.naive_bayes import GaussianNB\n",
    "from sklearn.neural_network import MLPClassifier\n",
    "import shap\n",
    "from sklearn.model_selection import train_test_split\n",
    "import joblib"
   ]
  },
  {
   "cell_type": "code",
   "execution_count": 2,
   "id": "6476ef40",
   "metadata": {
    "execution": {
     "iopub.execute_input": "2024-01-26T17:14:25.164844Z",
     "iopub.status.busy": "2024-01-26T17:14:25.164250Z",
     "iopub.status.idle": "2024-01-26T17:14:25.314123Z",
     "shell.execute_reply": "2024-01-26T17:14:25.312540Z"
    },
    "papermill": {
     "duration": 0.159524,
     "end_time": "2024-01-26T17:14:25.316928",
     "exception": false,
     "start_time": "2024-01-26T17:14:25.157404",
     "status": "completed"
    },
    "tags": []
   },
   "outputs": [
    {
     "data": {
      "text/plain": [
       "['itching',\n",
       " 'skin_rash',\n",
       " 'nodal_skin_eruptions',\n",
       " 'continuous_sneezing',\n",
       " 'shivering',\n",
       " 'chills',\n",
       " 'joint_pain',\n",
       " 'stomach_pain',\n",
       " 'acidity',\n",
       " 'ulcers_on_tongue',\n",
       " 'muscle_wasting',\n",
       " 'vomiting',\n",
       " 'burning_micturition',\n",
       " 'spotting_ urination',\n",
       " 'fatigue',\n",
       " 'weight_gain',\n",
       " 'anxiety',\n",
       " 'cold_hands_and_feets',\n",
       " 'mood_swings',\n",
       " 'weight_loss',\n",
       " 'restlessness',\n",
       " 'lethargy',\n",
       " 'patches_in_throat',\n",
       " 'irregular_sugar_level',\n",
       " 'cough',\n",
       " 'high_fever',\n",
       " 'sunken_eyes',\n",
       " 'breathlessness',\n",
       " 'sweating',\n",
       " 'dehydration',\n",
       " 'indigestion',\n",
       " 'headache',\n",
       " 'yellowish_skin',\n",
       " 'dark_urine',\n",
       " 'nausea',\n",
       " 'loss_of_appetite',\n",
       " 'pain_behind_the_eyes',\n",
       " 'back_pain',\n",
       " 'constipation',\n",
       " 'abdominal_pain',\n",
       " 'diarrhoea',\n",
       " 'mild_fever',\n",
       " 'yellow_urine',\n",
       " 'yellowing_of_eyes',\n",
       " 'acute_liver_failure',\n",
       " 'fluid_overload',\n",
       " 'swelling_of_stomach',\n",
       " 'swelled_lymph_nodes',\n",
       " 'malaise',\n",
       " 'blurred_and_distorted_vision',\n",
       " 'phlegm',\n",
       " 'throat_irritation',\n",
       " 'redness_of_eyes',\n",
       " 'sinus_pressure',\n",
       " 'runny_nose',\n",
       " 'congestion',\n",
       " 'chest_pain',\n",
       " 'weakness_in_limbs',\n",
       " 'fast_heart_rate',\n",
       " 'pain_during_bowel_movements',\n",
       " 'pain_in_anal_region',\n",
       " 'bloody_stool',\n",
       " 'irritation_in_anus',\n",
       " 'neck_pain',\n",
       " 'dizziness',\n",
       " 'cramps',\n",
       " 'bruising',\n",
       " 'obesity',\n",
       " 'swollen_legs',\n",
       " 'swollen_blood_vessels',\n",
       " 'puffy_face_and_eyes',\n",
       " 'enlarged_thyroid',\n",
       " 'brittle_nails',\n",
       " 'swollen_extremeties',\n",
       " 'excessive_hunger',\n",
       " 'extra_marital_contacts',\n",
       " 'drying_and_tingling_lips',\n",
       " 'slurred_speech',\n",
       " 'knee_pain',\n",
       " 'hip_joint_pain',\n",
       " 'muscle_weakness',\n",
       " 'stiff_neck',\n",
       " 'swelling_joints',\n",
       " 'movement_stiffness',\n",
       " 'spinning_movements',\n",
       " 'loss_of_balance',\n",
       " 'unsteadiness',\n",
       " 'weakness_of_one_body_side',\n",
       " 'loss_of_smell',\n",
       " 'bladder_discomfort',\n",
       " 'foul_smell_of urine',\n",
       " 'continuous_feel_of_urine',\n",
       " 'passage_of_gases',\n",
       " 'internal_itching',\n",
       " 'toxic_look_(typhos)',\n",
       " 'depression',\n",
       " 'irritability',\n",
       " 'muscle_pain',\n",
       " 'altered_sensorium',\n",
       " 'red_spots_over_body',\n",
       " 'belly_pain',\n",
       " 'abnormal_menstruation',\n",
       " 'dischromic _patches',\n",
       " 'watering_from_eyes',\n",
       " 'increased_appetite',\n",
       " 'polyuria',\n",
       " 'family_history',\n",
       " 'mucoid_sputum',\n",
       " 'rusty_sputum',\n",
       " 'lack_of_concentration',\n",
       " 'visual_disturbances',\n",
       " 'receiving_blood_transfusion',\n",
       " 'receiving_unsterile_injections',\n",
       " 'coma',\n",
       " 'stomach_bleeding',\n",
       " 'distention_of_abdomen',\n",
       " 'history_of_alcohol_consumption',\n",
       " 'fluid_overload.1',\n",
       " 'blood_in_sputum',\n",
       " 'prominent_veins_on_calf',\n",
       " 'palpitations',\n",
       " 'painful_walking',\n",
       " 'pus_filled_pimples',\n",
       " 'blackheads',\n",
       " 'scurring',\n",
       " 'skin_peeling',\n",
       " 'silver_like_dusting',\n",
       " 'small_dents_in_nails',\n",
       " 'inflammatory_nails',\n",
       " 'blister',\n",
       " 'red_sore_around_nose',\n",
       " 'yellow_crust_ooze',\n",
       " 'prognosis',\n",
       " 'Unnamed: 133']"
      ]
     },
     "execution_count": 2,
     "metadata": {},
     "output_type": "execute_result"
    }
   ],
   "source": [
    "train_dataset=pd.read_csv(\"/kaggle/input/disease-prediction-using-machine-learning/Training.csv\")\n",
    "train_dataset.columns.tolist()"
   ]
  },
  {
   "cell_type": "code",
   "execution_count": 3,
   "id": "0e3aceae",
   "metadata": {
    "execution": {
     "iopub.execute_input": "2024-01-26T17:14:25.331212Z",
     "iopub.status.busy": "2024-01-26T17:14:25.330749Z",
     "iopub.status.idle": "2024-01-26T17:14:25.354307Z",
     "shell.execute_reply": "2024-01-26T17:14:25.353079Z"
    },
    "papermill": {
     "duration": 0.033951,
     "end_time": "2024-01-26T17:14:25.357143",
     "exception": false,
     "start_time": "2024-01-26T17:14:25.323192",
     "status": "completed"
    },
    "tags": []
   },
   "outputs": [
    {
     "data": {
      "text/plain": [
       "0                              Fungal infection\n",
       "1                              Fungal infection\n",
       "2                              Fungal infection\n",
       "3                              Fungal infection\n",
       "4                              Fungal infection\n",
       "                         ...                   \n",
       "4915    (vertigo) Paroymsal  Positional Vertigo\n",
       "4916                                       Acne\n",
       "4917                    Urinary tract infection\n",
       "4918                                  Psoriasis\n",
       "4919                                   Impetigo\n",
       "Name: prognosis, Length: 4920, dtype: object"
      ]
     },
     "execution_count": 3,
     "metadata": {},
     "output_type": "execute_result"
    }
   ],
   "source": [
    "train_dataset.pop('Unnamed: 133')\n",
    "target=train_dataset['prognosis']\n",
    "train_dataset.pop('prognosis')"
   ]
  },
  {
   "cell_type": "code",
   "execution_count": 4,
   "id": "c5508784",
   "metadata": {
    "execution": {
     "iopub.execute_input": "2024-01-26T17:14:25.372425Z",
     "iopub.status.busy": "2024-01-26T17:14:25.371952Z",
     "iopub.status.idle": "2024-01-26T17:14:25.379049Z",
     "shell.execute_reply": "2024-01-26T17:14:25.377886Z"
    },
    "papermill": {
     "duration": 0.017678,
     "end_time": "2024-01-26T17:14:25.381779",
     "exception": false,
     "start_time": "2024-01-26T17:14:25.364101",
     "status": "completed"
    },
    "tags": []
   },
   "outputs": [],
   "source": [
    "for i in train_dataset.isnull().sum():\n",
    "    if i!=0:\n",
    "        print(i)"
   ]
  },
  {
   "cell_type": "code",
   "execution_count": 5,
   "id": "18ac7618",
   "metadata": {
    "execution": {
     "iopub.execute_input": "2024-01-26T17:14:25.396194Z",
     "iopub.status.busy": "2024-01-26T17:14:25.395730Z",
     "iopub.status.idle": "2024-01-26T17:14:25.410098Z",
     "shell.execute_reply": "2024-01-26T17:14:25.408658Z"
    },
    "papermill": {
     "duration": 0.025118,
     "end_time": "2024-01-26T17:14:25.413144",
     "exception": false,
     "start_time": "2024-01-26T17:14:25.388026",
     "status": "completed"
    },
    "tags": []
   },
   "outputs": [
    {
     "name": "stdout",
     "output_type": "stream",
     "text": [
      "[]\n"
     ]
    }
   ],
   "source": [
    "print([i for i in train_dataset.columns.tolist() if len(train_dataset[i])!=len(train_dataset['itching'])])"
   ]
  },
  {
   "cell_type": "code",
   "execution_count": 6,
   "id": "15768ff9",
   "metadata": {
    "execution": {
     "iopub.execute_input": "2024-01-26T17:14:25.427613Z",
     "iopub.status.busy": "2024-01-26T17:14:25.427197Z",
     "iopub.status.idle": "2024-01-26T17:14:25.435462Z",
     "shell.execute_reply": "2024-01-26T17:14:25.434080Z"
    },
    "papermill": {
     "duration": 0.019379,
     "end_time": "2024-01-26T17:14:25.438874",
     "exception": false,
     "start_time": "2024-01-26T17:14:25.419495",
     "status": "completed"
    },
    "tags": []
   },
   "outputs": [
    {
     "name": "stdout",
     "output_type": "stream",
     "text": [
      "[]\n"
     ]
    }
   ],
   "source": [
    "print([train_dataset[i] for i in train_dataset.columns.tolist() if train_dataset[i].dtype!='int64'])"
   ]
  },
  {
   "cell_type": "code",
   "execution_count": 7,
   "id": "921cc406",
   "metadata": {
    "execution": {
     "iopub.execute_input": "2024-01-26T17:14:25.454378Z",
     "iopub.status.busy": "2024-01-26T17:14:25.453392Z",
     "iopub.status.idle": "2024-01-26T17:14:25.461073Z",
     "shell.execute_reply": "2024-01-26T17:14:25.459735Z"
    },
    "papermill": {
     "duration": 0.01871,
     "end_time": "2024-01-26T17:14:25.464124",
     "exception": false,
     "start_time": "2024-01-26T17:14:25.445414",
     "status": "completed"
    },
    "tags": []
   },
   "outputs": [],
   "source": [
    "classification_models = {\n",
    "    'Logistic Regression': LogisticRegression(),\n",
    "    'Decision Tree': DecisionTreeClassifier(),\n",
    "    'Random Forest': RandomForestClassifier(n_jobs=-1, random_state=666),\n",
    "    'Gradient Boosting': GradientBoostingClassifier(),\n",
    "    'SVM': SVC(),\n",
    "    'K-Nearest Neighbors': KNeighborsClassifier(),\n",
    "    'Naive Bayes': GaussianNB(),\n",
    "    'Neural Network': MLPClassifier()\n",
    "}"
   ]
  },
  {
   "cell_type": "code",
   "execution_count": 8,
   "id": "f5d31482",
   "metadata": {
    "execution": {
     "iopub.execute_input": "2024-01-26T17:14:25.479838Z",
     "iopub.status.busy": "2024-01-26T17:14:25.479428Z",
     "iopub.status.idle": "2024-01-26T17:14:25.487218Z",
     "shell.execute_reply": "2024-01-26T17:14:25.485644Z"
    },
    "papermill": {
     "duration": 0.018527,
     "end_time": "2024-01-26T17:14:25.490013",
     "exception": false,
     "start_time": "2024-01-26T17:14:25.471486",
     "status": "completed"
    },
    "tags": []
   },
   "outputs": [],
   "source": [
    "encoder = LabelEncoder()\n",
    "target = encoder.fit_transform(target)"
   ]
  },
  {
   "cell_type": "code",
   "execution_count": 9,
   "id": "8e949c75",
   "metadata": {
    "execution": {
     "iopub.execute_input": "2024-01-26T17:14:25.506263Z",
     "iopub.status.busy": "2024-01-26T17:14:25.505534Z",
     "iopub.status.idle": "2024-01-26T17:14:25.513818Z",
     "shell.execute_reply": "2024-01-26T17:14:25.512533Z"
    },
    "papermill": {
     "duration": 0.019587,
     "end_time": "2024-01-26T17:14:25.516489",
     "exception": false,
     "start_time": "2024-01-26T17:14:25.496902",
     "status": "completed"
    },
    "tags": []
   },
   "outputs": [],
   "source": [
    "def train_models(X,y,model,i):\n",
    "    train_x,test_x,train_y,test_y=train_test_split(X,y,test_size=0.2, random_state=42)\n",
    "    model_fitted=model.fit(train_x,train_y)\n",
    "    predictions=model_fitted.predict(test_x)\n",
    "    accuracy = accuracy_score(test_y, predictions)\n",
    "    precision = precision_score(test_y, predictions, average='weighted')\n",
    "    recall = recall_score(test_y, predictions, average='weighted')\n",
    "    f1 = f1_score(test_y, predictions, average='weighted')\n",
    "    return {\"F1-Score\":f1,\n",
    "           \"Precision\":precision,\n",
    "           \"Recall\":recall,\n",
    "           \"Accuracy\":accuracy,}"
   ]
  },
  {
   "cell_type": "code",
   "execution_count": 10,
   "id": "ca2883f0",
   "metadata": {
    "execution": {
     "iopub.execute_input": "2024-01-26T17:14:25.531932Z",
     "iopub.status.busy": "2024-01-26T17:14:25.530913Z",
     "iopub.status.idle": "2024-01-26T17:15:16.445397Z",
     "shell.execute_reply": "2024-01-26T17:15:16.443270Z"
    },
    "papermill": {
     "duration": 50.927072,
     "end_time": "2024-01-26T17:15:16.450094",
     "exception": false,
     "start_time": "2024-01-26T17:14:25.523022",
     "status": "completed"
    },
    "tags": []
   },
   "outputs": [
    {
     "name": "stdout",
     "output_type": "stream",
     "text": [
      "Model : Logistic Regression\n",
      "{'F1-Score': 1.0, 'Precision': 1.0, 'Recall': 1.0, 'Accuracy': 1.0}\n",
      "Model : Decision Tree\n",
      "{'F1-Score': 1.0, 'Precision': 1.0, 'Recall': 1.0, 'Accuracy': 1.0}\n",
      "Model : Random Forest\n",
      "{'F1-Score': 1.0, 'Precision': 1.0, 'Recall': 1.0, 'Accuracy': 1.0}\n",
      "Model : Gradient Boosting\n",
      "{'F1-Score': 1.0, 'Precision': 1.0, 'Recall': 1.0, 'Accuracy': 1.0}\n",
      "Model : SVM\n",
      "{'F1-Score': 1.0, 'Precision': 1.0, 'Recall': 1.0, 'Accuracy': 1.0}\n",
      "Model : K-Nearest Neighbors\n",
      "{'F1-Score': 1.0, 'Precision': 1.0, 'Recall': 1.0, 'Accuracy': 1.0}\n",
      "Model : Naive Bayes\n",
      "{'F1-Score': 1.0, 'Precision': 1.0, 'Recall': 1.0, 'Accuracy': 1.0}\n",
      "Model : Neural Network\n",
      "{'F1-Score': 1.0, 'Precision': 1.0, 'Recall': 1.0, 'Accuracy': 1.0}\n"
     ]
    }
   ],
   "source": [
    "for i in classification_models:\n",
    "    print(\"Model : \"+i)\n",
    "    print(train_models(train_dataset,target,classification_models[i],i))"
   ]
  },
  {
   "cell_type": "code",
   "execution_count": 11,
   "id": "74226318",
   "metadata": {
    "execution": {
     "iopub.execute_input": "2024-01-26T17:15:16.482644Z",
     "iopub.status.busy": "2024-01-26T17:15:16.481904Z",
     "iopub.status.idle": "2024-01-26T17:15:32.428018Z",
     "shell.execute_reply": "2024-01-26T17:15:32.426561Z"
    },
    "papermill": {
     "duration": 15.966199,
     "end_time": "2024-01-26T17:15:32.430724",
     "exception": false,
     "start_time": "2024-01-26T17:15:16.464525",
     "status": "completed"
    },
    "tags": []
   },
   "outputs": [
    {
     "name": "stdout",
     "output_type": "stream",
     "text": [
      "Fitting 3 folds for each of 18 candidates, totalling 54 fits\n"
     ]
    },
    {
     "name": "stderr",
     "output_type": "stream",
     "text": [
      "The total space of parameters 18 is smaller than n_iter=100. Running 18 iterations. For exhaustive searches, use GridSearchCV.\n"
     ]
    },
    {
     "name": "stdout",
     "output_type": "stream",
     "text": [
      "Best Hyperparameters: {'min_samples_split': 2, 'min_samples_leaf': 1, 'bootstrap': True}\n"
     ]
    }
   ],
   "source": [
    "rf_model = RandomForestClassifier()\n",
    "param_dist = {\n",
    "    'min_samples_split': [2, 5, 10],\n",
    "    'min_samples_leaf': [1, 2, 4],\n",
    "    'bootstrap': [True, False]\n",
    "}\n",
    "\n",
    "rf_random = RandomizedSearchCV(\n",
    "    estimator=rf_model,\n",
    "    param_distributions=param_dist,\n",
    "    n_iter=100,\n",
    "    cv=3,\n",
    "    verbose=2,\n",
    "    random_state=42,\n",
    "    n_jobs=-1\n",
    ")\n",
    "rf_random.fit(train_dataset,target)\n",
    "print(\"Best Hyperparameters:\", rf_random.best_params_)"
   ]
  },
  {
   "cell_type": "code",
   "execution_count": 12,
   "id": "2cb4fd1f",
   "metadata": {
    "execution": {
     "iopub.execute_input": "2024-01-26T17:15:32.448262Z",
     "iopub.status.busy": "2024-01-26T17:15:32.447395Z",
     "iopub.status.idle": "2024-01-26T17:15:33.182912Z",
     "shell.execute_reply": "2024-01-26T17:15:33.181787Z"
    },
    "papermill": {
     "duration": 0.747912,
     "end_time": "2024-01-26T17:15:33.186183",
     "exception": false,
     "start_time": "2024-01-26T17:15:32.438271",
     "status": "completed"
    },
    "tags": []
   },
   "outputs": [
    {
     "data": {
      "text/html": [
       "<style>#sk-container-id-1 {color: black;background-color: white;}#sk-container-id-1 pre{padding: 0;}#sk-container-id-1 div.sk-toggleable {background-color: white;}#sk-container-id-1 label.sk-toggleable__label {cursor: pointer;display: block;width: 100%;margin-bottom: 0;padding: 0.3em;box-sizing: border-box;text-align: center;}#sk-container-id-1 label.sk-toggleable__label-arrow:before {content: \"▸\";float: left;margin-right: 0.25em;color: #696969;}#sk-container-id-1 label.sk-toggleable__label-arrow:hover:before {color: black;}#sk-container-id-1 div.sk-estimator:hover label.sk-toggleable__label-arrow:before {color: black;}#sk-container-id-1 div.sk-toggleable__content {max-height: 0;max-width: 0;overflow: hidden;text-align: left;background-color: #f0f8ff;}#sk-container-id-1 div.sk-toggleable__content pre {margin: 0.2em;color: black;border-radius: 0.25em;background-color: #f0f8ff;}#sk-container-id-1 input.sk-toggleable__control:checked~div.sk-toggleable__content {max-height: 200px;max-width: 100%;overflow: auto;}#sk-container-id-1 input.sk-toggleable__control:checked~label.sk-toggleable__label-arrow:before {content: \"▾\";}#sk-container-id-1 div.sk-estimator input.sk-toggleable__control:checked~label.sk-toggleable__label {background-color: #d4ebff;}#sk-container-id-1 div.sk-label input.sk-toggleable__control:checked~label.sk-toggleable__label {background-color: #d4ebff;}#sk-container-id-1 input.sk-hidden--visually {border: 0;clip: rect(1px 1px 1px 1px);clip: rect(1px, 1px, 1px, 1px);height: 1px;margin: -1px;overflow: hidden;padding: 0;position: absolute;width: 1px;}#sk-container-id-1 div.sk-estimator {font-family: monospace;background-color: #f0f8ff;border: 1px dotted black;border-radius: 0.25em;box-sizing: border-box;margin-bottom: 0.5em;}#sk-container-id-1 div.sk-estimator:hover {background-color: #d4ebff;}#sk-container-id-1 div.sk-parallel-item::after {content: \"\";width: 100%;border-bottom: 1px solid gray;flex-grow: 1;}#sk-container-id-1 div.sk-label:hover label.sk-toggleable__label {background-color: #d4ebff;}#sk-container-id-1 div.sk-serial::before {content: \"\";position: absolute;border-left: 1px solid gray;box-sizing: border-box;top: 0;bottom: 0;left: 50%;z-index: 0;}#sk-container-id-1 div.sk-serial {display: flex;flex-direction: column;align-items: center;background-color: white;padding-right: 0.2em;padding-left: 0.2em;position: relative;}#sk-container-id-1 div.sk-item {position: relative;z-index: 1;}#sk-container-id-1 div.sk-parallel {display: flex;align-items: stretch;justify-content: center;background-color: white;position: relative;}#sk-container-id-1 div.sk-item::before, #sk-container-id-1 div.sk-parallel-item::before {content: \"\";position: absolute;border-left: 1px solid gray;box-sizing: border-box;top: 0;bottom: 0;left: 50%;z-index: -1;}#sk-container-id-1 div.sk-parallel-item {display: flex;flex-direction: column;z-index: 1;position: relative;background-color: white;}#sk-container-id-1 div.sk-parallel-item:first-child::after {align-self: flex-end;width: 50%;}#sk-container-id-1 div.sk-parallel-item:last-child::after {align-self: flex-start;width: 50%;}#sk-container-id-1 div.sk-parallel-item:only-child::after {width: 0;}#sk-container-id-1 div.sk-dashed-wrapped {border: 1px dashed gray;margin: 0 0.4em 0.5em 0.4em;box-sizing: border-box;padding-bottom: 0.4em;background-color: white;}#sk-container-id-1 div.sk-label label {font-family: monospace;font-weight: bold;display: inline-block;line-height: 1.2em;}#sk-container-id-1 div.sk-label-container {text-align: center;}#sk-container-id-1 div.sk-container {/* jupyter's `normalize.less` sets `[hidden] { display: none; }` but bootstrap.min.css set `[hidden] { display: none !important; }` so we also need the `!important` here to be able to override the default hidden behavior on the sphinx rendered scikit-learn.org. See: https://github.com/scikit-learn/scikit-learn/issues/21755 */display: inline-block !important;position: relative;}#sk-container-id-1 div.sk-text-repr-fallback {display: none;}</style><div id=\"sk-container-id-1\" class=\"sk-top-container\"><div class=\"sk-text-repr-fallback\"><pre>RandomForestClassifier()</pre><b>In a Jupyter environment, please rerun this cell to show the HTML representation or trust the notebook. <br />On GitHub, the HTML representation is unable to render, please try loading this page with nbviewer.org.</b></div><div class=\"sk-container\" hidden><div class=\"sk-item\"><div class=\"sk-estimator sk-toggleable\"><input class=\"sk-toggleable__control sk-hidden--visually\" id=\"sk-estimator-id-1\" type=\"checkbox\" checked><label for=\"sk-estimator-id-1\" class=\"sk-toggleable__label sk-toggleable__label-arrow\">RandomForestClassifier</label><div class=\"sk-toggleable__content\"><pre>RandomForestClassifier()</pre></div></div></div></div></div>"
      ],
      "text/plain": [
       "RandomForestClassifier()"
      ]
     },
     "execution_count": 12,
     "metadata": {},
     "output_type": "execute_result"
    }
   ],
   "source": [
    "rf_model.fit(train_dataset,target)"
   ]
  },
  {
   "cell_type": "code",
   "execution_count": 13,
   "id": "08d2e1a5",
   "metadata": {
    "execution": {
     "iopub.execute_input": "2024-01-26T17:15:33.204083Z",
     "iopub.status.busy": "2024-01-26T17:15:33.203653Z",
     "iopub.status.idle": "2024-01-26T17:15:33.301480Z",
     "shell.execute_reply": "2024-01-26T17:15:33.300542Z"
    },
    "papermill": {
     "duration": 0.109619,
     "end_time": "2024-01-26T17:15:33.303891",
     "exception": false,
     "start_time": "2024-01-26T17:15:33.194272",
     "status": "completed"
    },
    "tags": []
   },
   "outputs": [
    {
     "data": {
      "text/plain": [
       "['./random_forest1.joblib']"
      ]
     },
     "execution_count": 13,
     "metadata": {},
     "output_type": "execute_result"
    }
   ],
   "source": [
    "best_rf_model = rf_random.best_estimator_\n",
    "joblib.dump(rf_model , \"./random_forest1.joblib\")"
   ]
  },
  {
   "cell_type": "code",
   "execution_count": 14,
   "id": "941c8d78",
   "metadata": {
    "execution": {
     "iopub.execute_input": "2024-01-26T17:15:33.321639Z",
     "iopub.status.busy": "2024-01-26T17:15:33.320989Z",
     "iopub.status.idle": "2024-01-26T17:15:33.419078Z",
     "shell.execute_reply": "2024-01-26T17:15:33.417829Z"
    },
    "papermill": {
     "duration": 0.110187,
     "end_time": "2024-01-26T17:15:33.421792",
     "exception": false,
     "start_time": "2024-01-26T17:15:33.311605",
     "status": "completed"
    },
    "tags": []
   },
   "outputs": [
    {
     "name": "stdout",
     "output_type": "stream",
     "text": [
      "{'Impetigo', 'Hepatitis D', 'Bronchial Asthma', 'Acne', 'AIDS', 'Dimorphic hemmorhoids(piles)', 'Common Cold', 'Dengue', 'Hepatitis E', 'Hypertension ', 'Varicose veins', 'Jaundice', 'Psoriasis', 'Chronic cholestasis', 'Hypoglycemia', 'Drug Reaction', 'Peptic ulcer diseae', 'Cervical spondylosis', 'Hepatitis B', 'Paralysis (brain hemorrhage)', 'Tuberculosis', 'Hyperthyroidism', 'Gastroenteritis', 'Osteoarthristis', 'GERD', 'Chicken pox', '(vertigo) Paroymsal  Positional Vertigo', 'Migraine', 'Malaria', 'Hypothyroidism', 'Typhoid', 'Fungal infection', 'Urinary tract infection', 'Pneumonia', 'hepatitis A', 'Diabetes ', 'Heart attack', 'Arthritis', 'Allergy', 'Hepatitis C', 'Alcoholic hepatitis'} {0, 1, 2, 3, 4, 5, 6, 7, 8, 9, 10, 11, 12, 13, 14, 15, 16, 17, 18, 19, 20, 21, 22, 23, 24, 25, 26, 27, 28, 29, 30, 31, 32, 33, 34, 35, 36, 37, 38, 39, 40}\n"
     ]
    }
   ],
   "source": [
    "train_dataset1=pd.read_csv(\"/kaggle/input/disease-prediction-using-machine-learning/Training.csv\")\n",
    "print(set(train_dataset1['prognosis']),set(target))"
   ]
  }
 ],
 "metadata": {
  "kaggle": {
   "accelerator": "none",
   "dataSources": [
    {
     "datasetId": 654897,
     "sourceId": 1157702,
     "sourceType": "datasetVersion"
    }
   ],
   "dockerImageVersionId": 30635,
   "isGpuEnabled": false,
   "isInternetEnabled": true,
   "language": "python",
   "sourceType": "notebook"
  },
  "kernelspec": {
   "display_name": "Python 3",
   "language": "python",
   "name": "python3"
  },
  "language_info": {
   "codemirror_mode": {
    "name": "ipython",
    "version": 3
   },
   "file_extension": ".py",
   "mimetype": "text/x-python",
   "name": "python",
   "nbconvert_exporter": "python",
   "pygments_lexer": "ipython3",
   "version": "3.10.12"
  },
  "papermill": {
   "default_parameters": {},
   "duration": 85.069278,
   "end_time": "2024-01-26T17:15:36.052391",
   "environment_variables": {},
   "exception": null,
   "input_path": "__notebook__.ipynb",
   "output_path": "__notebook__.ipynb",
   "parameters": {},
   "start_time": "2024-01-26T17:14:10.983113",
   "version": "2.4.0"
  }
 },
 "nbformat": 4,
 "nbformat_minor": 5
}
